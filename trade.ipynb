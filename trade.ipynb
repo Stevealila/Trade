{
 "cells": [
  {
   "cell_type": "code",
   "execution_count": null,
   "metadata": {},
   "outputs": [
    {
     "name": "stdout",
     "output_type": "stream",
     "text": [
      "Cannot buy USDJPYm of 0.01 lots at 151.659 because of 'No money'\n"
     ]
    }
   ],
   "source": [
    "from utils.mt_5.trade import buy\n",
    "\n",
    "# buy(symbol=\"USDJPY\", target_profit=21, max_loss=3)"
   ]
  },
  {
   "cell_type": "code",
   "execution_count": null,
   "metadata": {},
   "outputs": [
    {
     "name": "stdout",
     "output_type": "stream",
     "text": [
      "USDJPYm sold successfully!\n"
     ]
    }
   ],
   "source": [
    "from utils.mt_5.trade import sell\n",
    "# sell(symbol=\"USDJPY\")"
   ]
  }
 ],
 "metadata": {
  "kernelspec": {
   "display_name": ".venv",
   "language": "python",
   "name": "python3"
  },
  "language_info": {
   "codemirror_mode": {
    "name": "ipython",
    "version": 3
   },
   "file_extension": ".py",
   "mimetype": "text/x-python",
   "name": "python",
   "nbconvert_exporter": "python",
   "pygments_lexer": "ipython3",
   "version": "3.12.3"
  }
 },
 "nbformat": 4,
 "nbformat_minor": 2
}
