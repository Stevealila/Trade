{
 "cells": [
  {
   "cell_type": "code",
   "execution_count": 1,
   "metadata": {},
   "outputs": [
    {
     "data": {
      "text/html": [
       "<div>\n",
       "<style scoped>\n",
       "    .dataframe tbody tr th:only-of-type {\n",
       "        vertical-align: middle;\n",
       "    }\n",
       "\n",
       "    .dataframe tbody tr th {\n",
       "        vertical-align: top;\n",
       "    }\n",
       "\n",
       "    .dataframe thead th {\n",
       "        text-align: right;\n",
       "    }\n",
       "</style>\n",
       "<table border=\"1\" class=\"dataframe\">\n",
       "  <thead>\n",
       "    <tr style=\"text-align: right;\">\n",
       "      <th></th>\n",
       "      <th>open</th>\n",
       "      <th>high</th>\n",
       "      <th>low</th>\n",
       "      <th>close</th>\n",
       "      <th>tick_volume</th>\n",
       "      <th>spread</th>\n",
       "    </tr>\n",
       "    <tr>\n",
       "      <th>time</th>\n",
       "      <th></th>\n",
       "      <th></th>\n",
       "      <th></th>\n",
       "      <th></th>\n",
       "      <th></th>\n",
       "      <th></th>\n",
       "    </tr>\n",
       "  </thead>\n",
       "  <tbody>\n",
       "    <tr>\n",
       "      <th>2024-08-30</th>\n",
       "      <td>1.10800</td>\n",
       "      <td>1.10945</td>\n",
       "      <td>1.10434</td>\n",
       "      <td>1.10474</td>\n",
       "      <td>42223</td>\n",
       "      <td>8</td>\n",
       "    </tr>\n",
       "    <tr>\n",
       "      <th>2024-09-01</th>\n",
       "      <td>1.10468</td>\n",
       "      <td>1.10494</td>\n",
       "      <td>1.10437</td>\n",
       "      <td>1.10442</td>\n",
       "      <td>1527</td>\n",
       "      <td>8</td>\n",
       "    </tr>\n",
       "    <tr>\n",
       "      <th>2024-09-02</th>\n",
       "      <td>1.10443</td>\n",
       "      <td>1.10769</td>\n",
       "      <td>1.10414</td>\n",
       "      <td>1.10670</td>\n",
       "      <td>25779</td>\n",
       "      <td>8</td>\n",
       "    </tr>\n",
       "    <tr>\n",
       "      <th>2024-09-03</th>\n",
       "      <td>1.10670</td>\n",
       "      <td>1.10697</td>\n",
       "      <td>1.10259</td>\n",
       "      <td>1.10480</td>\n",
       "      <td>43184</td>\n",
       "      <td>7</td>\n",
       "    </tr>\n",
       "    <tr>\n",
       "      <th>2024-09-04</th>\n",
       "      <td>1.10480</td>\n",
       "      <td>1.10949</td>\n",
       "      <td>1.10396</td>\n",
       "      <td>1.10659</td>\n",
       "      <td>34681</td>\n",
       "      <td>7</td>\n",
       "    </tr>\n",
       "  </tbody>\n",
       "</table>\n",
       "</div>"
      ],
      "text/plain": [
       "               open     high      low    close  tick_volume  spread\n",
       "time                                                               \n",
       "2024-08-30  1.10800  1.10945  1.10434  1.10474        42223       8\n",
       "2024-09-01  1.10468  1.10494  1.10437  1.10442         1527       8\n",
       "2024-09-02  1.10443  1.10769  1.10414  1.10670        25779       8\n",
       "2024-09-03  1.10670  1.10697  1.10259  1.10480        43184       7\n",
       "2024-09-04  1.10480  1.10949  1.10396  1.10659        34681       7"
      ]
     },
     "execution_count": 1,
     "metadata": {},
     "output_type": "execute_result"
    }
   ],
   "source": [
    "import MetaTrader5 as mt5\n",
    "from utils.mt5_utils import create_dataframe\n",
    "\n",
    "mt5.initialize()\n",
    "df = create_dataframe(currency_pair='eurusd', timeframe=\"d1\", years_back=3)\n",
    "\n",
    "df.tail()"
   ]
  },
  {
   "cell_type": "code",
   "execution_count": 2,
   "metadata": {},
   "outputs": [],
   "source": [
    "from statsmodels.tsa.stattools import adfuller\n",
    "\n",
    "def check_stationarity(df):\n",
    "    adf_result = adfuller(df)\n",
    "    if(adf_result[1] < 0.05):\n",
    "        return True\n",
    "    else:\n",
    "        return False"
   ]
  },
  {
   "cell_type": "code",
   "execution_count": 3,
   "metadata": {},
   "outputs": [
    {
     "data": {
      "text/plain": [
       "False"
      ]
     },
     "execution_count": 3,
     "metadata": {},
     "output_type": "execute_result"
    }
   ],
   "source": [
    "check_stationarity(df['close'])"
   ]
  },
  {
   "cell_type": "code",
   "execution_count": 4,
   "metadata": {},
   "outputs": [
    {
     "data": {
      "text/plain": [
       "True"
      ]
     },
     "execution_count": 4,
     "metadata": {},
     "output_type": "execute_result"
    }
   ],
   "source": [
    "check_stationarity(df['close'].diff().dropna())"
   ]
  },
  {
   "cell_type": "code",
   "execution_count": 5,
   "metadata": {},
   "outputs": [
    {
     "data": {
      "text/plain": [
       "(766, 329)"
      ]
     },
     "execution_count": 5,
     "metadata": {},
     "output_type": "execute_result"
    }
   ],
   "source": [
    "split = int(len(df)*0.7)\n",
    "\n",
    "data_train = df[:split]\n",
    "data_test = df[split:]\n",
    "\n",
    "# df.shape[0] # 1095, \n",
    "data_train.shape[0], data_test.shape[0]"
   ]
  },
  {
   "cell_type": "code",
   "execution_count": 6,
   "metadata": {},
   "outputs": [
    {
     "name": "stdout",
     "output_type": "stream",
     "text": [
      "The best arima params:  (0, 1, 0)\n"
     ]
    }
   ],
   "source": [
    "import itertools\n",
    "from statsmodels.tsa.arima.model import ARIMA\n",
    "import warnings\n",
    "from statsmodels.tools.sm_exceptions import ConvergenceWarning\n",
    "\n",
    "# Ignore specific warnings\n",
    "warnings.simplefilter(\"ignore\", ConvergenceWarning)\n",
    "warnings.filterwarnings(\"ignore\", message=\"Non-stationary starting autoregressive parameters found\")\n",
    "warnings.filterwarnings(\"ignore\", message=\"Non-invertible starting MA parameters found\")\n",
    "\n",
    "\n",
    "def get_best_params(data):\n",
    "    # Define the p, d and q parameters\n",
    "    p = q = range(0, 5)\n",
    "    d = range(1, 2)\n",
    "\n",
    "    # Generate all different combinations of p, d and q triplets\n",
    "    pdq = list(itertools.product(p, d, q))\n",
    "\n",
    "    best_aic = float(\"inf\")\n",
    "    best_param = None\n",
    "\n",
    "    for param in pdq:\n",
    "        try:\n",
    "            model = ARIMA(data.close.values, order=param)\n",
    "            model_fit = model.fit()\n",
    "            if model_fit.aic < best_aic:\n",
    "                best_param = param\n",
    "                best_aic = model_fit.aic\n",
    "        except:\n",
    "            continue\n",
    "    return best_param\n",
    "\n",
    "best_param = get_best_params(data_train)\n",
    "print(\"The best arima params: \", best_param)"
   ]
  },
  {
   "cell_type": "code",
   "execution_count": 7,
   "metadata": {},
   "outputs": [],
   "source": [
    "def get_predicted_prices(close_prices, best_param):\n",
    "    # Define the best model\n",
    "    best_model = ARIMA(close_prices.values, order=best_param)\n",
    "    best_model_fit = best_model.fit(method_kwargs={\"warn_convergence\": False})\n",
    "    # Make forecast\n",
    "    predictions = best_model_fit.forecast(steps=1)[0]\n",
    "    return predictions"
   ]
  },
  {
   "cell_type": "code",
   "execution_count": 8,
   "metadata": {},
   "outputs": [],
   "source": [
    "import numpy as np\n",
    "\n",
    "# Ensure data_train is a copy of the original DataFrame to avoid SettingWithCopyWarning\n",
    "data_train = df[:split].copy()\n",
    "\n",
    "# Define the window size\n",
    "window = 700\n",
    "\n",
    "# Initialize the 'predicted_price' column with NaNs\n",
    "data_train['predicted_price'] = np.nan\n",
    "\n",
    "# Use .loc[] to set values to avoid SettingWithCopyWarning and ChainedAssignmentError\n",
    "for i in range(window, data_train.shape[0]):\n",
    "    # Ensure we are using .loc to avoid the warnings\n",
    "    data_train.loc[data_train.index[i], 'predicted_price'] = get_predicted_prices(\n",
    "        data_train.iloc[i-window:i].close, best_param\n",
    "    )\n"
   ]
  },
  {
   "cell_type": "code",
   "execution_count": 12,
   "metadata": {},
   "outputs": [
    {
     "data": {
      "text/plain": [
       "time\n",
       "2023-08-10    1.09768\n",
       "2023-08-11    1.09812\n",
       "2023-08-13    1.09468\n",
       "2023-08-14    1.09428\n",
       "2023-08-15    1.09073\n",
       "Name: predicted_price, dtype: float64"
      ]
     },
     "execution_count": 12,
     "metadata": {},
     "output_type": "execute_result"
    }
   ],
   "source": [
    "# ..........same dates for both...................\n",
    "# data_train['predicted_price'].tail()\n",
    "# df['close'].loc['2023-08-10':'2023-08-15']\n",
    "# .........diffent dates for actual...............\n",
    "# df['close'].loc['2023-08-09':'2023-08-14']\n",
    "\n",
    "\"\"\" \n",
    "time          predicted  actual  |               actual\n",
    "2023-08-10    1.09768    1.09812 | 2023-08-09    1.09768\n",
    "2023-08-11    1.09812    1.09468 | 2023-08-10    1.09812\n",
    "2023-08-13    1.09468    1.09428 | 2023-08-11    1.09468\n",
    "2023-08-14    1.09428    1.09073 | 2023-08-13    1.09428\n",
    "2023-08-15    1.09073    1.09034 | 2023-08-14    1.09073\n",
    "\"\"\"\n",
    "data_train['predicted_price'].tail()"
   ]
  },
  {
   "cell_type": "code",
   "execution_count": 13,
   "metadata": {},
   "outputs": [
    {
     "data": {
      "text/plain": [
       "time\n",
       "2023-08-10    1.09812\n",
       "2023-08-11    1.09468\n",
       "2023-08-13    1.09428\n",
       "2023-08-14    1.09073\n",
       "2023-08-15    1.09034\n",
       "Name: close, dtype: float64"
      ]
     },
     "execution_count": 13,
     "metadata": {},
     "output_type": "execute_result"
    }
   ],
   "source": [
    "df['close'].loc['2023-08-10':'2023-08-15']"
   ]
  },
  {
   "cell_type": "code",
   "execution_count": 11,
   "metadata": {},
   "outputs": [],
   "source": [
    "# https://www.kaggle.com/code/luigimersico/forecasting-foreign-exchange-rate-with-arima"
   ]
  }
 ],
 "metadata": {
  "kernelspec": {
   "display_name": ".venv",
   "language": "python",
   "name": "python3"
  },
  "language_info": {
   "codemirror_mode": {
    "name": "ipython",
    "version": 3
   },
   "file_extension": ".py",
   "mimetype": "text/x-python",
   "name": "python",
   "nbconvert_exporter": "python",
   "pygments_lexer": "ipython3",
   "version": "3.10.9"
  }
 },
 "nbformat": 4,
 "nbformat_minor": 2
}
