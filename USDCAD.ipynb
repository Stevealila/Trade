{
 "cells": [
  {
   "cell_type": "markdown",
   "metadata": {},
   "source": [
    "## Get data"
   ]
  },
  {
   "cell_type": "code",
   "execution_count": 1,
   "metadata": {},
   "outputs": [
    {
     "data": {
      "text/html": [
       "<div>\n",
       "<style scoped>\n",
       "    .dataframe tbody tr th:only-of-type {\n",
       "        vertical-align: middle;\n",
       "    }\n",
       "\n",
       "    .dataframe tbody tr th {\n",
       "        vertical-align: top;\n",
       "    }\n",
       "\n",
       "    .dataframe thead th {\n",
       "        text-align: right;\n",
       "    }\n",
       "</style>\n",
       "<table border=\"1\" class=\"dataframe\">\n",
       "  <thead>\n",
       "    <tr style=\"text-align: right;\">\n",
       "      <th></th>\n",
       "      <th>close</th>\n",
       "    </tr>\n",
       "    <tr>\n",
       "      <th>time</th>\n",
       "      <th></th>\n",
       "    </tr>\n",
       "  </thead>\n",
       "  <tbody>\n",
       "    <tr>\n",
       "      <th>2024-10-24 11:30:00</th>\n",
       "      <td>1.38147</td>\n",
       "    </tr>\n",
       "    <tr>\n",
       "      <th>2024-10-24 12:00:00</th>\n",
       "      <td>1.38148</td>\n",
       "    </tr>\n",
       "    <tr>\n",
       "      <th>2024-10-24 12:30:00</th>\n",
       "      <td>1.38178</td>\n",
       "    </tr>\n",
       "    <tr>\n",
       "      <th>2024-10-24 13:00:00</th>\n",
       "      <td>1.38135</td>\n",
       "    </tr>\n",
       "    <tr>\n",
       "      <th>2024-10-24 13:30:00</th>\n",
       "      <td>1.38166</td>\n",
       "    </tr>\n",
       "    <tr>\n",
       "      <th>...</th>\n",
       "      <td>...</td>\n",
       "    </tr>\n",
       "    <tr>\n",
       "      <th>2024-12-04 15:00:00</th>\n",
       "      <td>1.40616</td>\n",
       "    </tr>\n",
       "    <tr>\n",
       "      <th>2024-12-04 15:30:00</th>\n",
       "      <td>1.40645</td>\n",
       "    </tr>\n",
       "    <tr>\n",
       "      <th>2024-12-04 16:00:00</th>\n",
       "      <td>1.40608</td>\n",
       "    </tr>\n",
       "    <tr>\n",
       "      <th>2024-12-04 16:30:00</th>\n",
       "      <td>1.40658</td>\n",
       "    </tr>\n",
       "    <tr>\n",
       "      <th>2024-12-04 17:00:00</th>\n",
       "      <td>1.40660</td>\n",
       "    </tr>\n",
       "  </tbody>\n",
       "</table>\n",
       "<p>1402 rows × 1 columns</p>\n",
       "</div>"
      ],
      "text/plain": [
       "                       close\n",
       "time                        \n",
       "2024-10-24 11:30:00  1.38147\n",
       "2024-10-24 12:00:00  1.38148\n",
       "2024-10-24 12:30:00  1.38178\n",
       "2024-10-24 13:00:00  1.38135\n",
       "2024-10-24 13:30:00  1.38166\n",
       "...                      ...\n",
       "2024-12-04 15:00:00  1.40616\n",
       "2024-12-04 15:30:00  1.40645\n",
       "2024-12-04 16:00:00  1.40608\n",
       "2024-12-04 16:30:00  1.40658\n",
       "2024-12-04 17:00:00  1.40660\n",
       "\n",
       "[1402 rows x 1 columns]"
      ]
     },
     "execution_count": 1,
     "metadata": {},
     "output_type": "execute_result"
    }
   ],
   "source": [
    "import pandas as pd\n",
    "import warnings\n",
    "from utils.mt_5.data import get_currency_pair_data_\n",
    "\n",
    "warnings.filterwarnings('ignore')\n",
    "\n",
    "symbol = \"USDCAD\"  \n",
    "\n",
    "df = get_currency_pair_data_(symbol, timeframe=\"M30\", years_back=.08)\n",
    "df"
   ]
  },
  {
   "cell_type": "markdown",
   "metadata": {},
   "source": [
    "## Model trend"
   ]
  },
  {
   "cell_type": "code",
   "execution_count": 2,
   "metadata": {},
   "outputs": [
    {
     "data": {
      "text/plain": [
       "time\n",
       "2024-10-24 11:30:00    1.386611\n",
       "2024-10-24 12:00:00    1.386625\n",
       "2024-10-24 12:30:00    1.386639\n",
       "2024-10-24 13:00:00    1.386653\n",
       "2024-10-24 13:30:00    1.386667\n",
       "                         ...   \n",
       "2024-12-04 15:00:00    1.406107\n",
       "2024-12-04 15:30:00    1.406121\n",
       "2024-12-04 16:00:00    1.406135\n",
       "2024-12-04 16:30:00    1.406149\n",
       "2024-12-04 17:00:00    1.406163\n",
       "Length: 1402, dtype: float64"
      ]
     },
     "execution_count": 2,
     "metadata": {},
     "output_type": "execute_result"
    }
   ],
   "source": [
    "from statsmodels.tsa.deterministic import DeterministicProcess\n",
    "from sklearn.linear_model import LinearRegression\n",
    "\n",
    "dp = DeterministicProcess(index=df.index, order=1, constant=True, drop=True)\n",
    "\n",
    "X = dp.in_sample()\n",
    "y = df['close']\n",
    "\n",
    "y, X = y.align(X, join='inner')\n",
    "\n",
    "model = LinearRegression(fit_intercept=False)\n",
    "model.fit(X, y)\n",
    "\n",
    "y_pred = pd.Series(model.predict(X), index=X.index)\n",
    "y_pred"
   ]
  },
  {
   "cell_type": "code",
   "execution_count": 3,
   "metadata": {},
   "outputs": [
    {
     "data": {
      "text/plain": [
       "<Axes: xlabel='time'>"
      ]
     },
     "execution_count": 3,
     "metadata": {},
     "output_type": "execute_result"
    },
    {
     "data": {
      "image/png": "[encoded data removed]",
      "text/plain": [
       "<Figure size 640x480 with 1 Axes>"
      ]
     },
     "metadata": {},
     "output_type": "display_data"
    }
   ],
   "source": [
    "df['close'].plot()\n",
    "y_pred.plot()"
   ]
  },
  {
   "cell_type": "markdown",
   "metadata": {},
   "source": [
    "## Forecast"
   ]
  },
  {
   "cell_type": "code",
   "execution_count": 4,
   "metadata": {},
   "outputs": [
    {
     "data": {
      "text/html": [
       "<div>\n",
       "<style scoped>\n",
       "    .dataframe tbody tr th:only-of-type {\n",
       "        vertical-align: middle;\n",
       "    }\n",
       "\n",
       "    .dataframe tbody tr th {\n",
       "        vertical-align: top;\n",
       "    }\n",
       "\n",
       "    .dataframe thead th {\n",
       "        text-align: right;\n",
       "    }\n",
       "</style>\n",
       "<table border=\"1\" class=\"dataframe\">\n",
       "  <thead>\n",
       "    <tr style=\"text-align: right;\">\n",
       "      <th></th>\n",
       "      <th>predicted_close</th>\n",
       "    </tr>\n",
       "  </thead>\n",
       "  <tbody>\n",
       "    <tr>\n",
       "      <th>2024-12-04 17:00:00</th>\n",
       "      <td>1.406177</td>\n",
       "    </tr>\n",
       "    <tr>\n",
       "      <th>2024-12-04 17:30:00</th>\n",
       "      <td>1.406191</td>\n",
       "    </tr>\n",
       "    <tr>\n",
       "      <th>2024-12-04 18:00:00</th>\n",
       "      <td>1.406205</td>\n",
       "    </tr>\n",
       "    <tr>\n",
       "      <th>2024-12-04 18:30:00</th>\n",
       "      <td>1.406219</td>\n",
       "    </tr>\n",
       "    <tr>\n",
       "      <th>2024-12-04 19:00:00</th>\n",
       "      <td>1.406233</td>\n",
       "    </tr>\n",
       "    <tr>\n",
       "      <th>2024-12-04 19:30:00</th>\n",
       "      <td>1.406247</td>\n",
       "    </tr>\n",
       "    <tr>\n",
       "      <th>2024-12-04 20:00:00</th>\n",
       "      <td>1.406261</td>\n",
       "    </tr>\n",
       "    <tr>\n",
       "      <th>2024-12-04 20:30:00</th>\n",
       "      <td>1.406275</td>\n",
       "    </tr>\n",
       "    <tr>\n",
       "      <th>2024-12-04 21:00:00</th>\n",
       "      <td>1.406289</td>\n",
       "    </tr>\n",
       "    <tr>\n",
       "      <th>2024-12-04 21:30:00</th>\n",
       "      <td>1.406303</td>\n",
       "    </tr>\n",
       "    <tr>\n",
       "      <th>2024-12-04 22:00:00</th>\n",
       "      <td>1.406317</td>\n",
       "    </tr>\n",
       "    <tr>\n",
       "      <th>2024-12-04 22:30:00</th>\n",
       "      <td>1.406331</td>\n",
       "    </tr>\n",
       "    <tr>\n",
       "      <th>2024-12-04 23:00:00</th>\n",
       "      <td>1.406345</td>\n",
       "    </tr>\n",
       "    <tr>\n",
       "      <th>2024-12-04 23:30:00</th>\n",
       "      <td>1.406359</td>\n",
       "    </tr>\n",
       "  </tbody>\n",
       "</table>\n",
       "</div>"
      ],
      "text/plain": [
       "                     predicted_close\n",
       "2024-12-04 17:00:00         1.406177\n",
       "2024-12-04 17:30:00         1.406191\n",
       "2024-12-04 18:00:00         1.406205\n",
       "2024-12-04 18:30:00         1.406219\n",
       "2024-12-04 19:00:00         1.406233\n",
       "2024-12-04 19:30:00         1.406247\n",
       "2024-12-04 20:00:00         1.406261\n",
       "2024-12-04 20:30:00         1.406275\n",
       "2024-12-04 21:00:00         1.406289\n",
       "2024-12-04 21:30:00         1.406303\n",
       "2024-12-04 22:00:00         1.406317\n",
       "2024-12-04 22:30:00         1.406331\n",
       "2024-12-04 23:00:00         1.406345\n",
       "2024-12-04 23:30:00         1.406359"
      ]
     },
     "execution_count": 4,
     "metadata": {},
     "output_type": "execute_result"
    }
   ],
   "source": [
    "X_ = dp.out_of_sample(14)\n",
    "X_dates = pd.date_range(start=X.index[-1], periods=len(X_), freq=pd.Timedelta(minutes=30))\n",
    "\n",
    "y_fore = pd.Series(model.predict(X_), index=X_.index)\n",
    "\n",
    "forecast_df = pd.DataFrame(y_fore)\n",
    "forecast_df.index = X_dates\n",
    "\n",
    "forecast_df.columns = ['predicted_close']\n",
    "forecast_df"
   ]
  },
  {
   "cell_type": "code",
   "execution_count": 5,
   "metadata": {},
   "outputs": [
    {
     "name": "stdout",
     "output_type": "stream",
     "text": [
      "We will close LOWER!\n",
      "1.4066 1.40636 2\n"
     ]
    }
   ],
   "source": [
    "current_price = df['close'].iloc[-1] \n",
    "predicted_day_close = round(forecast_df['predicted_close'].iloc[-1], 5) \n",
    "\n",
    "threshold = 0.001  \n",
    "\n",
    "if predicted_day_close > current_price: # buy\n",
    "    print(\"predicted_day_close is GREATER than current_close\")\n",
    "    target_profit = round((predicted_day_close - current_price) * 10000)\n",
    "\n",
    "if predicted_day_close < current_price: # short-sell\n",
    "    print(\"We will close LOWER!\")\n",
    "    target_profit = round((current_price - predicted_day_close) * 10000)\n",
    "    \n",
    "\n",
    "\n",
    "print(current_price, predicted_day_close, target_profit)"
   ]
  },
  {
   "cell_type": "markdown",
   "metadata": {},
   "source": [
    "## Trade"
   ]
  },
  {
   "cell_type": "code",
   "execution_count": 6,
   "metadata": {},
   "outputs": [
    {
     "name": "stdout",
     "output_type": "stream",
     "text": [
      "We will close LOWER!\n",
      "\n",
      ".....SHORT-SELLING.....\n",
      "\n",
      "Cannot short sell USDCADm of 0.01 lots at 1.4066 because of 'No money'\n"
     ]
    }
   ],
   "source": [
    "from utils.mt_5.trade import buy, short_sell, sell\n",
    "\n",
    "current_price = df['close'].iloc[-1] \n",
    "predicted_day_close = round(forecast_df['predicted_close'].iloc[-1], 5)  \n",
    "\n",
    "past_1800hrs = df.index.time[-1] >= pd.Timestamp('20:00:00').time()\n",
    "\n",
    "if not past_1800hrs:\n",
    "    if predicted_day_close > current_price: # buy\n",
    "        print(\"predicted_day_close is GREATER than current_close\\n\\n....BUYING....\\n\")\n",
    "        target_profit = round((predicted_day_close - current_price) * 10000)\n",
    "        buy(symbol, target_profit=target_profit)\n",
    "\n",
    "    elif predicted_day_close < current_price: # short-sell\n",
    "        print(\"We will close LOWER!\\n\\n.....SHORT-SELLING.....\\n\")\n",
    "        target_profit = round((current_price - predicted_day_close) * 10000)\n",
    "        short_sell(symbol, target_profit=target_profit)\n",
    "    else:\n",
    "        print(\"....I DON'T KNOW HOW TO HELP YOU!....\")\n",
    "else: # sell\n",
    "    print(\"You CANNOT trade PAST 1800hrs\\n\\n....SELLING....\\n\")\n",
    "    sell(symbol)\n"
   ]
  }
 ],
 "metadata": {
  "kernelspec": {
   "display_name": ".venv",
   "language": "python",
   "name": "python3"
  },
  "language_info": {
   "codemirror_mode": {
    "name": "ipython",
    "version": 3
   },
   "file_extension": ".py",
   "mimetype": "text/x-python",
   "name": "python",
   "nbconvert_exporter": "python",
   "pygments_lexer": "ipython3",
   "version": "3.12.3"
  }
 },
 "nbformat": 4,
 "nbformat_minor": 2
}
