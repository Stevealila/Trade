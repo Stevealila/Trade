{
 "cells": [
  {
   "cell_type": "markdown",
   "metadata": {},
   "source": [
    "## Get data"
   ]
  },
  {
   "cell_type": "code",
   "execution_count": 1,
   "metadata": {},
   "outputs": [
    {
     "data": {
      "text/html": [
       "<div>\n",
       "<style scoped>\n",
       "    .dataframe tbody tr th:only-of-type {\n",
       "        vertical-align: middle;\n",
       "    }\n",
       "\n",
       "    .dataframe tbody tr th {\n",
       "        vertical-align: top;\n",
       "    }\n",
       "\n",
       "    .dataframe thead th {\n",
       "        text-align: right;\n",
       "    }\n",
       "</style>\n",
       "<table border=\"1\" class=\"dataframe\">\n",
       "  <thead>\n",
       "    <tr style=\"text-align: right;\">\n",
       "      <th></th>\n",
       "      <th>open</th>\n",
       "      <th>high</th>\n",
       "      <th>low</th>\n",
       "      <th>close</th>\n",
       "      <th>tick_volume</th>\n",
       "      <th>spread</th>\n",
       "    </tr>\n",
       "    <tr>\n",
       "      <th>time</th>\n",
       "      <th></th>\n",
       "      <th></th>\n",
       "      <th></th>\n",
       "      <th></th>\n",
       "      <th></th>\n",
       "      <th></th>\n",
       "    </tr>\n",
       "  </thead>\n",
       "  <tbody>\n",
       "    <tr>\n",
       "      <th>2024-09-08</th>\n",
       "      <td>1.35592</td>\n",
       "      <td>1.35701</td>\n",
       "      <td>1.35580</td>\n",
       "      <td>1.35627</td>\n",
       "      <td>1300</td>\n",
       "      <td>15</td>\n",
       "    </tr>\n",
       "    <tr>\n",
       "      <th>2024-09-09</th>\n",
       "      <td>1.35627</td>\n",
       "      <td>1.35763</td>\n",
       "      <td>1.35458</td>\n",
       "      <td>1.35635</td>\n",
       "      <td>20864</td>\n",
       "      <td>15</td>\n",
       "    </tr>\n",
       "    <tr>\n",
       "      <th>2024-09-10</th>\n",
       "      <td>1.35634</td>\n",
       "      <td>1.36147</td>\n",
       "      <td>1.35611</td>\n",
       "      <td>1.36096</td>\n",
       "      <td>22312</td>\n",
       "      <td>15</td>\n",
       "    </tr>\n",
       "    <tr>\n",
       "      <th>2024-09-11</th>\n",
       "      <td>1.36097</td>\n",
       "      <td>1.36221</td>\n",
       "      <td>1.35662</td>\n",
       "      <td>1.35778</td>\n",
       "      <td>27129</td>\n",
       "      <td>15</td>\n",
       "    </tr>\n",
       "    <tr>\n",
       "      <th>2024-09-12</th>\n",
       "      <td>1.35778</td>\n",
       "      <td>1.35846</td>\n",
       "      <td>1.35644</td>\n",
       "      <td>1.35678</td>\n",
       "      <td>4618</td>\n",
       "      <td>15</td>\n",
       "    </tr>\n",
       "  </tbody>\n",
       "</table>\n",
       "</div>"
      ],
      "text/plain": [
       "               open     high      low    close  tick_volume  spread\n",
       "time                                                               \n",
       "2024-09-08  1.35592  1.35701  1.35580  1.35627         1300      15\n",
       "2024-09-09  1.35627  1.35763  1.35458  1.35635        20864      15\n",
       "2024-09-10  1.35634  1.36147  1.35611  1.36096        22312      15\n",
       "2024-09-11  1.36097  1.36221  1.35662  1.35778        27129      15\n",
       "2024-09-12  1.35778  1.35846  1.35644  1.35678         4618      15"
      ]
     },
     "execution_count": 1,
     "metadata": {},
     "output_type": "execute_result"
    }
   ],
   "source": [
    "from utils.mt5 import initialize_, get_currency_pair_data_\n",
    "\n",
    "initialize_()\n",
    "\n",
    "usdcad_df = get_currency_pair_data_('USDCAD')\n",
    "usdcad_df.tail()"
   ]
  },
  {
   "cell_type": "markdown",
   "metadata": {},
   "source": [
    "## Preprocess the data"
   ]
  },
  {
   "cell_type": "code",
   "execution_count": 2,
   "metadata": {},
   "outputs": [
    {
     "data": {
      "text/plain": [
       "array([[1.24685],\n",
       "       [1.24769],\n",
       "       [1.24424],\n",
       "       ...,\n",
       "       [1.36096],\n",
       "       [1.35778],\n",
       "       [1.35678]])"
      ]
     },
     "execution_count": 2,
     "metadata": {},
     "output_type": "execute_result"
    }
   ],
   "source": [
    "import numpy as np\n",
    "\n",
    "df = np.array(usdcad_df.copy()['close']).reshape(-1, 1)\n",
    "df"
   ]
  },
  {
   "cell_type": "code",
   "execution_count": 3,
   "metadata": {},
   "outputs": [
    {
     "data": {
      "text/plain": [
       "array([[0.23274365],\n",
       "       [0.23730193],\n",
       "       [0.21858042],\n",
       "       ...,\n",
       "       [0.8519644 ],\n",
       "       [0.83470805],\n",
       "       [0.82928153]])"
      ]
     },
     "execution_count": 3,
     "metadata": {},
     "output_type": "execute_result"
    }
   ],
   "source": [
    "from sklearn.preprocessing import MinMaxScaler\n",
    "\n",
    "scaler = MinMaxScaler()\n",
    "\n",
    "data = scaler.fit_transform(df)\n",
    "data"
   ]
  },
  {
   "cell_type": "code",
   "execution_count": 4,
   "metadata": {},
   "outputs": [],
   "source": [
    "def create_dataset(data, steps=1):\n",
    "    X, y = [], []\n",
    "    for i in range(len(data)-steps-1):\n",
    "        X.append(data[i: i+steps, 0])\n",
    "        y.append(data[i+steps, 0])\n",
    "    return np.array(X), np.array(y)"
   ]
  },
  {
   "cell_type": "code",
   "execution_count": 5,
   "metadata": {},
   "outputs": [
    {
     "data": {
      "text/plain": [
       "((815, 60), (158, 60))"
      ]
     },
     "execution_count": 5,
     "metadata": {},
     "output_type": "execute_result"
    }
   ],
   "source": [
    "steps = 60\n",
    "\n",
    "split_idx = int(len(data) * 0.8)\n",
    "train_data, test_data = data[:split_idx], data[split_idx:len(data)]\n",
    "\n",
    "X_train, y_train = create_dataset(train_data, steps)\n",
    "X_test, y_test = create_dataset(test_data, steps)\n",
    "\n",
    "X_train.shape, X_test.shape"
   ]
  },
  {
   "cell_type": "code",
   "execution_count": 6,
   "metadata": {},
   "outputs": [
    {
     "data": {
      "text/plain": [
       "((815, 60, 1), (158, 60, 1))"
      ]
     },
     "execution_count": 6,
     "metadata": {},
     "output_type": "execute_result"
    }
   ],
   "source": [
    "X_train_3d = X_train.reshape(X_train.shape[0], X_train.shape[1], 1)\n",
    "X_test_3d = X_test.reshape(X_test.shape[0], X_test.shape[1], 1)\n",
    "\n",
    "X_train_3d.shape, X_test_3d.shape"
   ]
  },
  {
   "cell_type": "markdown",
   "metadata": {},
   "source": [
    "## Train a model"
   ]
  },
  {
   "cell_type": "code",
   "execution_count": 7,
   "metadata": {},
   "outputs": [],
   "source": [
    "# from tensorflow.keras.models import Sequential\n",
    "# from tensorflow.keras.layers import Input, Dense, LSTM\n",
    "# from tensorflow.keras.optimizers import Adam\n",
    "# from tensorflow.keras.metrics import MeanSquaredError\n",
    "\n",
    "# model = Sequential()\n",
    "\n",
    "# model.add(Input(shape=(steps, 1)))\n",
    "# model.add(LSTM(100, return_sequences=True))\n",
    "# model.add(LSTM(100, return_sequences=True))\n",
    "# model.add(LSTM(100))\n",
    "# model.add(Dense(1))\n",
    "\n",
    "# model.compile(loss='mean_squared_error', optimizer=Adam(learning_rate=0.001), metrics=[MeanSquaredError()])\n",
    "# model.fit(X_train_3d, y_train, batch_size=32, epochs=50, verbose=1);"
   ]
  },
  {
   "cell_type": "code",
   "execution_count": 8,
   "metadata": {},
   "outputs": [],
   "source": [
    "import joblib \n",
    "\n",
    "# joblib.dump(model, 'models/lstm_USDCAD.pkl') \n",
    "model = joblib.load('models/lstm_USDCAD.pkl')  "
   ]
  },
  {
   "cell_type": "markdown",
   "metadata": {},
   "source": [
    "## Testing 1,2,3..."
   ]
  },
  {
   "cell_type": "code",
   "execution_count": 9,
   "metadata": {},
   "outputs": [
    {
     "name": "stdout",
     "output_type": "stream",
     "text": [
      "\u001b[1m26/26\u001b[0m \u001b[32m━━━━━━━━━━━━━━━━━━━━\u001b[0m\u001b[37m\u001b[0m \u001b[1m2s\u001b[0m 57ms/step\n",
      "\u001b[1m5/5\u001b[0m \u001b[32m━━━━━━━━━━━━━━━━━━━━\u001b[0m\u001b[37m\u001b[0m \u001b[1m0s\u001b[0m 35ms/step\n"
     ]
    },
    {
     "data": {
      "text/plain": [
       "array([[1.3470572],\n",
       "       [1.348495 ],\n",
       "       [1.3458436],\n",
       "       [1.3528553],\n",
       "       [1.3529103]], dtype=float32)"
      ]
     },
     "execution_count": 9,
     "metadata": {},
     "output_type": "execute_result"
    }
   ],
   "source": [
    "train_predictions = scaler.inverse_transform(model.predict(X_train_3d))\n",
    "test_predictions = scaler.inverse_transform(model.predict(X_test_3d))\n",
    "\n",
    "test_predictions[:5]"
   ]
  },
  {
   "cell_type": "code",
   "execution_count": 10,
   "metadata": {},
   "outputs": [
    {
     "data": {
      "text/plain": [
       "array([[1.34914],\n",
       "       [1.3465 ],\n",
       "       [1.3537 ],\n",
       "       [1.35405],\n",
       "       [1.35455]])"
      ]
     },
     "execution_count": 10,
     "metadata": {},
     "output_type": "execute_result"
    }
   ],
   "source": [
    "train_actuals = scaler.inverse_transform(y_train.reshape(-1,1))\n",
    "test_actuals = scaler.inverse_transform(y_test.reshape(-1,1))\n",
    "\n",
    "test_actuals[:5]"
   ]
  },
  {
   "cell_type": "code",
   "execution_count": 11,
   "metadata": {},
   "outputs": [
    {
     "data": {
      "text/plain": [
       "(0.7706796807922176, 0.48687867349405445)"
      ]
     },
     "execution_count": 11,
     "metadata": {},
     "output_type": "execute_result"
    }
   ],
   "source": [
    "from sklearn.metrics import mean_squared_error\n",
    "import math \n",
    "\n",
    "train_error = math.sqrt(mean_squared_error(y_train, train_predictions))\n",
    "test_error = math.sqrt(mean_squared_error(y_test, test_predictions))\n",
    "\n",
    "train_error, test_error # |1> (0.7723888049452278, 0.4897638825407242), |2> (0.7706796807922176, 0.48687867349405445)"
   ]
  }
 ],
 "metadata": {
  "kernelspec": {
   "display_name": "Python 3",
   "language": "python",
   "name": "python3"
  },
  "language_info": {
   "codemirror_mode": {
    "name": "ipython",
    "version": 3
   },
   "file_extension": ".py",
   "mimetype": "text/x-python",
   "name": "python",
   "nbconvert_exporter": "python",
   "pygments_lexer": "ipython3",
   "version": "3.10.9"
  }
 },
 "nbformat": 4,
 "nbformat_minor": 2
}
