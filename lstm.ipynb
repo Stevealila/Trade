{
 "cells": [
  {
   "cell_type": "markdown",
   "metadata": {},
   "source": [
    "## Get data"
   ]
  },
  {
   "cell_type": "code",
   "execution_count": 1,
   "metadata": {},
   "outputs": [
    {
     "data": {
      "text/html": [
       "<div>\n",
       "<style scoped>\n",
       "    .dataframe tbody tr th:only-of-type {\n",
       "        vertical-align: middle;\n",
       "    }\n",
       "\n",
       "    .dataframe tbody tr th {\n",
       "        vertical-align: top;\n",
       "    }\n",
       "\n",
       "    .dataframe thead th {\n",
       "        text-align: right;\n",
       "    }\n",
       "</style>\n",
       "<table border=\"1\" class=\"dataframe\">\n",
       "  <thead>\n",
       "    <tr style=\"text-align: right;\">\n",
       "      <th></th>\n",
       "      <th>open</th>\n",
       "      <th>high</th>\n",
       "      <th>low</th>\n",
       "      <th>close</th>\n",
       "      <th>tick_volume</th>\n",
       "      <th>spread</th>\n",
       "    </tr>\n",
       "    <tr>\n",
       "      <th>time</th>\n",
       "      <th></th>\n",
       "      <th></th>\n",
       "      <th></th>\n",
       "      <th></th>\n",
       "      <th></th>\n",
       "      <th></th>\n",
       "    </tr>\n",
       "  </thead>\n",
       "  <tbody>\n",
       "    <tr>\n",
       "      <th>2024-09-04</th>\n",
       "      <td>124.68892</td>\n",
       "      <td>127.04924</td>\n",
       "      <td>123.63172</td>\n",
       "      <td>124.26965</td>\n",
       "      <td>257</td>\n",
       "      <td>303579</td>\n",
       "    </tr>\n",
       "    <tr>\n",
       "      <th>2024-09-05</th>\n",
       "      <td>124.23585</td>\n",
       "      <td>126.87368</td>\n",
       "      <td>123.10978</td>\n",
       "      <td>126.01266</td>\n",
       "      <td>257</td>\n",
       "      <td>410790</td>\n",
       "    </tr>\n",
       "    <tr>\n",
       "      <th>2024-09-06</th>\n",
       "      <td>125.99751</td>\n",
       "      <td>126.93707</td>\n",
       "      <td>125.18213</td>\n",
       "      <td>125.92646</td>\n",
       "      <td>237</td>\n",
       "      <td>411160</td>\n",
       "    </tr>\n",
       "    <tr>\n",
       "      <th>2024-09-08</th>\n",
       "      <td>126.39715</td>\n",
       "      <td>126.39715</td>\n",
       "      <td>125.59318</td>\n",
       "      <td>125.59318</td>\n",
       "      <td>20</td>\n",
       "      <td>386925</td>\n",
       "    </tr>\n",
       "    <tr>\n",
       "      <th>2024-09-09</th>\n",
       "      <td>125.56655</td>\n",
       "      <td>127.20549</td>\n",
       "      <td>124.11228</td>\n",
       "      <td>127.14406</td>\n",
       "      <td>153</td>\n",
       "      <td>390974</td>\n",
       "    </tr>\n",
       "  </tbody>\n",
       "</table>\n",
       "</div>"
      ],
      "text/plain": [
       "                 open       high        low      close  tick_volume  spread\n",
       "time                                                                       \n",
       "2024-09-04  124.68892  127.04924  123.63172  124.26965          257  303579\n",
       "2024-09-05  124.23585  126.87368  123.10978  126.01266          257  410790\n",
       "2024-09-06  125.99751  126.93707  125.18213  125.92646          237  411160\n",
       "2024-09-08  126.39715  126.39715  125.59318  125.59318           20  386925\n",
       "2024-09-09  125.56655  127.20549  124.11228  127.14406          153  390974"
      ]
     },
     "execution_count": 1,
     "metadata": {},
     "output_type": "execute_result"
    }
   ],
   "source": [
    "from utils.mt5 import mt5_initialize, get_currency_pair_data\n",
    "\n",
    "mt5_initialize()\n",
    "\n",
    "df = get_currency_pair_data('USDKES')\n",
    "df.tail()"
   ]
  },
  {
   "cell_type": "markdown",
   "metadata": {},
   "source": [
    "## Preprocess the data"
   ]
  },
  {
   "cell_type": "code",
   "execution_count": 2,
   "metadata": {},
   "outputs": [],
   "source": [
    "import numpy as np\n",
    "\n",
    "def preprocess_data(df, days, scaler):\n",
    "    df = df.copy()\n",
    "    df['date'] = df.index\n",
    "    df = df[['close', 'date']]\n",
    "    df.loc[:, 'close'] = scaler.fit_transform(df[['close']])\n",
    "    # Create the 'future' column by shifting 'close' by -days\n",
    "    df['future'] = df['close'].shift(-days)\n",
    "    df.dropna(inplace=True)\n",
    "    return df"
   ]
  },
  {
   "cell_type": "code",
   "execution_count": 3,
   "metadata": {},
   "outputs": [],
   "source": [
    "from collections import deque\n",
    "\n",
    "def create_features_and_target(df, days, scaler):\n",
    "    df = preprocess_data(df, days, scaler)\n",
    "    # Capture the last 'days' number of 'close' values\n",
    "    last_sequence = np.array(df[['close']].tail(days))\n",
    "    sequence_data = []\n",
    "    sequences = deque(maxlen=days)\n",
    "    \n",
    "    # Iterate through the DataFrame to create sequences of 'close' values and corresponding targets\n",
    "    for entry, target in zip(df[['close', 'date']].values, df['future'].values):\n",
    "        sequences.append(entry)\n",
    "        if len(sequences) == days:\n",
    "            sequence_data.append([np.array(sequences), target])\n",
    "    \n",
    "    # Prepare the last sequence by combining the most recent sequences with the last 'days' number of 'close' values\n",
    "    last_sequence = list([s[:len(['close'])] for s in sequences]) + list(last_sequence)\n",
    "    last_sequence = np.array(last_sequence).astype(np.float32)\n",
    "    \n",
    "    X, y = [], []\n",
    "    for seq, target in sequence_data:\n",
    "        X.append(seq)\n",
    "        y.append(target)\n",
    "\n",
    "    features = np.array(X)\n",
    "    # Ensure features only include the 'close' values\n",
    "    features = features[:, :, :len(['close'])].astype(np.float32)\n",
    "    target = np.array(y)\n",
    "\n",
    "    return features, target, last_sequence\n"
   ]
  },
  {
   "cell_type": "markdown",
   "metadata": {},
   "source": [
    "## Train a model"
   ]
  },
  {
   "cell_type": "code",
   "execution_count": 4,
   "metadata": {},
   "outputs": [],
   "source": [
    "from sklearn.model_selection import train_test_split\n",
    "from sklearn.preprocessing import MinMaxScaler\n",
    "\n",
    "scaler = MinMaxScaler()\n",
    "days = 7\n",
    "\n",
    "features, target, last_sequence = create_features_and_target(df, days, scaler)\n",
    "X_train, X_test, y_train, y_test = train_test_split(features, target, test_size=0.2, random_state=3)"
   ]
  },
  {
   "cell_type": "code",
   "execution_count": 5,
   "metadata": {},
   "outputs": [],
   "source": [
    "import tensorflow\n",
    "\n",
    "def train_model(features, target, epochs=100):\n",
    "    model = tensorflow.keras.Sequential([\n",
    "    tensorflow.keras.layers.LSTM(60, return_sequences=True),\n",
    "    tensorflow.keras.layers.Dropout(0.3),\n",
    "    tensorflow.keras.layers.LSTM(120, return_sequences=False),\n",
    "    tensorflow.keras.layers.Dropout(0.3),\n",
    "    tensorflow.keras.layers.Dense(20),\n",
    "    tensorflow.keras.layers.Dense(1),\n",
    "    ])\n",
    "\n",
    "    model.compile(loss='mean_squared_error', optimizer='adam', metrics=['accuracy'])\n",
    "    model.fit(features, target, epochs=epochs, verbose=False)\n",
    "    return model"
   ]
  },
  {
   "cell_type": "markdown",
   "metadata": {},
   "source": [
    "## Predict prices"
   ]
  },
  {
   "cell_type": "code",
   "execution_count": 6,
   "metadata": {},
   "outputs": [],
   "source": [
    "model = train_model(features, target)"
   ]
  },
  {
   "cell_type": "code",
   "execution_count": 7,
   "metadata": {},
   "outputs": [
    {
     "name": "stdout",
     "output_type": "stream",
     "text": [
      "\u001b[1m1/1\u001b[0m \u001b[32m━━━━━━━━━━━━━━━━━━━━\u001b[0m\u001b[37m\u001b[0m \u001b[1m1s\u001b[0m 684ms/step\n"
     ]
    },
    {
     "data": {
      "text/plain": [
       "array([[124.65404 ],\n",
       "       [124.873695],\n",
       "       [124.40623 ],\n",
       "       [124.914635],\n",
       "       [125.0846  ],\n",
       "       [124.90757 ],\n",
       "       [124.554886]], dtype=float32)"
      ]
     },
     "execution_count": 7,
     "metadata": {},
     "output_type": "execute_result"
    }
   ],
   "source": [
    "last_sequence = last_sequence[-days:]\n",
    "predictions = model.predict(last_sequence)\n",
    "predicted_prices = scaler.inverse_transform(predictions)\n",
    "\"\"\"\n",
    "open\thigh\tlow\tclose\ttick_volume\tspread\n",
    "time\t\t\t\t\t\t\n",
    "2024-09-04\t124.68892\t127.04924\t123.63172\t124.26965\t257\t303579\n",
    "2024-09-05\t124.23585\t126.87368\t123.10978\t126.01266\t257\t410790\n",
    "2024-09-06\t125.99751\t126.93707\t125.18213\t125.92646\t237\t411160\n",
    "2024-09-08\t126.39715\t126.39715\t125.59318\t125.59318\t20\t386925\n",
    "2024-09-09\t125.56655\t127.20549\t124.11228\t127.14406\t153\t390974\n",
    "\"\"\"\n",
    "predicted_prices"
   ]
  }
 ],
 "metadata": {
  "kernelspec": {
   "display_name": "Python 3",
   "language": "python",
   "name": "python3"
  },
  "language_info": {
   "codemirror_mode": {
    "name": "ipython",
    "version": 3
   },
   "file_extension": ".py",
   "mimetype": "text/x-python",
   "name": "python",
   "nbconvert_exporter": "python",
   "pygments_lexer": "ipython3",
   "version": "3.10.9"
  }
 },
 "nbformat": 4,
 "nbformat_minor": 2
}
