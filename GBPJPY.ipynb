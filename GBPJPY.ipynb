{
 "cells": [
  {
   "cell_type": "code",
   "execution_count": 1,
   "metadata": {},
   "outputs": [
    {
     "data": {
      "text/html": [
       "<div>\n",
       "<style scoped>\n",
       "    .dataframe tbody tr th:only-of-type {\n",
       "        vertical-align: middle;\n",
       "    }\n",
       "\n",
       "    .dataframe tbody tr th {\n",
       "        vertical-align: top;\n",
       "    }\n",
       "\n",
       "    .dataframe thead th {\n",
       "        text-align: right;\n",
       "    }\n",
       "</style>\n",
       "<table border=\"1\" class=\"dataframe\">\n",
       "  <thead>\n",
       "    <tr style=\"text-align: right;\">\n",
       "      <th></th>\n",
       "      <th>close</th>\n",
       "    </tr>\n",
       "    <tr>\n",
       "      <th>time</th>\n",
       "      <th></th>\n",
       "    </tr>\n",
       "  </thead>\n",
       "  <tbody>\n",
       "    <tr>\n",
       "      <th>2024-12-18 13:00:00</th>\n",
       "      <td>195.007</td>\n",
       "    </tr>\n",
       "    <tr>\n",
       "      <th>2024-12-18 13:15:00</th>\n",
       "      <td>195.055</td>\n",
       "    </tr>\n",
       "    <tr>\n",
       "      <th>2024-12-18 13:30:00</th>\n",
       "      <td>195.191</td>\n",
       "    </tr>\n",
       "    <tr>\n",
       "      <th>2024-12-18 13:45:00</th>\n",
       "      <td>195.297</td>\n",
       "    </tr>\n",
       "    <tr>\n",
       "      <th>2024-12-18 14:00:00</th>\n",
       "      <td>195.413</td>\n",
       "    </tr>\n",
       "    <tr>\n",
       "      <th>2024-12-18 14:15:00</th>\n",
       "      <td>195.274</td>\n",
       "    </tr>\n",
       "    <tr>\n",
       "      <th>2024-12-18 14:30:00</th>\n",
       "      <td>195.293</td>\n",
       "    </tr>\n",
       "    <tr>\n",
       "      <th>2024-12-18 14:45:00</th>\n",
       "      <td>195.296</td>\n",
       "    </tr>\n",
       "  </tbody>\n",
       "</table>\n",
       "</div>"
      ],
      "text/plain": [
       "                       close\n",
       "time                        \n",
       "2024-12-18 13:00:00  195.007\n",
       "2024-12-18 13:15:00  195.055\n",
       "2024-12-18 13:30:00  195.191\n",
       "2024-12-18 13:45:00  195.297\n",
       "2024-12-18 14:00:00  195.413\n",
       "2024-12-18 14:15:00  195.274\n",
       "2024-12-18 14:30:00  195.293\n",
       "2024-12-18 14:45:00  195.296"
      ]
     },
     "execution_count": 1,
     "metadata": {},
     "output_type": "execute_result"
    }
   ],
   "source": [
    "from models.ts.cycles import forecast_serials, forecast_serials_lstm, trade_serials\n",
    "\n",
    "currency = \"GBPJPY\"\n",
    "timeframe_m = 15\n",
    "lags = 8\n",
    "\n",
    "df, forecast_df = forecast_serials(currency, lags, timeframe_m)\n",
    "# df, forecast_df = forecast_serials_lstm(currency, lags, timeframe_m)\n",
    "df.tail(lags)"
   ]
  },
  {
   "cell_type": "code",
   "execution_count": 2,
   "metadata": {},
   "outputs": [
    {
     "data": {
      "text/html": [
       "<div>\n",
       "<style scoped>\n",
       "    .dataframe tbody tr th:only-of-type {\n",
       "        vertical-align: middle;\n",
       "    }\n",
       "\n",
       "    .dataframe tbody tr th {\n",
       "        vertical-align: top;\n",
       "    }\n",
       "\n",
       "    .dataframe thead th {\n",
       "        text-align: right;\n",
       "    }\n",
       "</style>\n",
       "<table border=\"1\" class=\"dataframe\">\n",
       "  <thead>\n",
       "    <tr style=\"text-align: right;\">\n",
       "      <th></th>\n",
       "      <th>predicted_close</th>\n",
       "    </tr>\n",
       "    <tr>\n",
       "      <th>time</th>\n",
       "      <th></th>\n",
       "    </tr>\n",
       "  </thead>\n",
       "  <tbody>\n",
       "    <tr>\n",
       "      <th>2024-12-18 15:00:00</th>\n",
       "      <td>195.001877</td>\n",
       "    </tr>\n",
       "    <tr>\n",
       "      <th>2024-12-18 15:15:00</th>\n",
       "      <td>195.043213</td>\n",
       "    </tr>\n",
       "    <tr>\n",
       "      <th>2024-12-18 15:30:00</th>\n",
       "      <td>195.169266</td>\n",
       "    </tr>\n",
       "    <tr>\n",
       "      <th>2024-12-18 15:45:00</th>\n",
       "      <td>195.280655</td>\n",
       "    </tr>\n",
       "    <tr>\n",
       "      <th>2024-12-18 16:00:00</th>\n",
       "      <td>195.408234</td>\n",
       "    </tr>\n",
       "    <tr>\n",
       "      <th>2024-12-18 16:15:00</th>\n",
       "      <td>195.285721</td>\n",
       "    </tr>\n",
       "    <tr>\n",
       "      <th>2024-12-18 16:30:00</th>\n",
       "      <td>195.294022</td>\n",
       "    </tr>\n",
       "    <tr>\n",
       "      <th>2024-12-18 16:45:00</th>\n",
       "      <td>195.283279</td>\n",
       "    </tr>\n",
       "  </tbody>\n",
       "</table>\n",
       "</div>"
      ],
      "text/plain": [
       "                     predicted_close\n",
       "time                                \n",
       "2024-12-18 15:00:00       195.001877\n",
       "2024-12-18 15:15:00       195.043213\n",
       "2024-12-18 15:30:00       195.169266\n",
       "2024-12-18 15:45:00       195.280655\n",
       "2024-12-18 16:00:00       195.408234\n",
       "2024-12-18 16:15:00       195.285721\n",
       "2024-12-18 16:30:00       195.294022\n",
       "2024-12-18 16:45:00       195.283279"
      ]
     },
     "execution_count": 2,
     "metadata": {},
     "output_type": "execute_result"
    }
   ],
   "source": [
    "forecast_df"
   ]
  },
  {
   "cell_type": "code",
   "execution_count": 3,
   "metadata": {},
   "outputs": [
    {
     "name": "stdout",
     "output_type": "stream",
     "text": [
      "\n",
      ".....................................REQUEST:..........................................\n",
      "\n",
      "We will go SHORT by 1 pips:\n",
      "\n",
      "current_price   => 195.296\n",
      "predicted_close => 195.283\n",
      "target_profit   => 1\n",
      "\n",
      ".....................................RESPONSE:..........................................\n",
      "\n",
      "\n",
      "\n",
      "......................SHORT-SELLING GBPJPY......................\n",
      "\n",
      "\n",
      "GBPJPYm already short-sold!\n"
     ]
    }
   ],
   "source": [
    "trade_serials(currency, df, forecast_df)"
   ]
  }
 ],
 "metadata": {
  "kernelspec": {
   "display_name": ".venv",
   "language": "python",
   "name": "python3"
  },
  "language_info": {
   "codemirror_mode": {
    "name": "ipython",
    "version": 3
   },
   "file_extension": ".py",
   "mimetype": "text/x-python",
   "name": "python",
   "nbconvert_exporter": "python",
   "pygments_lexer": "ipython3",
   "version": "3.12.3"
  }
 },
 "nbformat": 4,
 "nbformat_minor": 2
}
