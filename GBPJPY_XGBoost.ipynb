{
 "cells": [
  {
   "cell_type": "code",
   "execution_count": 4,
   "metadata": {},
   "outputs": [
    {
     "data": {
      "text/html": [
       "<div>\n",
       "<style scoped>\n",
       "    .dataframe tbody tr th:only-of-type {\n",
       "        vertical-align: middle;\n",
       "    }\n",
       "\n",
       "    .dataframe tbody tr th {\n",
       "        vertical-align: top;\n",
       "    }\n",
       "\n",
       "    .dataframe thead th {\n",
       "        text-align: right;\n",
       "    }\n",
       "</style>\n",
       "<table border=\"1\" class=\"dataframe\">\n",
       "  <thead>\n",
       "    <tr style=\"text-align: right;\">\n",
       "      <th></th>\n",
       "      <th>close</th>\n",
       "    </tr>\n",
       "    <tr>\n",
       "      <th>time</th>\n",
       "      <th></th>\n",
       "    </tr>\n",
       "  </thead>\n",
       "  <tbody>\n",
       "    <tr>\n",
       "      <th>2024-12-05 20:15:00</th>\n",
       "      <td>191.279</td>\n",
       "    </tr>\n",
       "    <tr>\n",
       "      <th>2024-12-05 20:30:00</th>\n",
       "      <td>191.324</td>\n",
       "    </tr>\n",
       "    <tr>\n",
       "      <th>2024-12-05 20:45:00</th>\n",
       "      <td>191.354</td>\n",
       "    </tr>\n",
       "    <tr>\n",
       "      <th>2024-12-05 21:00:00</th>\n",
       "      <td>191.411</td>\n",
       "    </tr>\n",
       "    <tr>\n",
       "      <th>2024-12-05 21:15:00</th>\n",
       "      <td>191.366</td>\n",
       "    </tr>\n",
       "    <tr>\n",
       "      <th>2024-12-05 21:30:00</th>\n",
       "      <td>191.454</td>\n",
       "    </tr>\n",
       "    <tr>\n",
       "      <th>2024-12-05 21:45:00</th>\n",
       "      <td>191.300</td>\n",
       "    </tr>\n",
       "    <tr>\n",
       "      <th>2024-12-05 22:00:00</th>\n",
       "      <td>191.332</td>\n",
       "    </tr>\n",
       "  </tbody>\n",
       "</table>\n",
       "</div>"
      ],
      "text/plain": [
       "                       close\n",
       "time                        \n",
       "2024-12-05 20:15:00  191.279\n",
       "2024-12-05 20:30:00  191.324\n",
       "2024-12-05 20:45:00  191.354\n",
       "2024-12-05 21:00:00  191.411\n",
       "2024-12-05 21:15:00  191.366\n",
       "2024-12-05 21:30:00  191.454\n",
       "2024-12-05 21:45:00  191.300\n",
       "2024-12-05 22:00:00  191.332"
      ]
     },
     "execution_count": 4,
     "metadata": {},
     "output_type": "execute_result"
    }
   ],
   "source": [
    "from models.ts.cycles import forecast_serials, trade_serials\n",
    "\n",
    "currency = \"GBPJPY\"\n",
    "timeframe_m = 15\n",
    "lags = 8\n",
    "\n",
    "df, forecast_df = forecast_serials(currency, lags, timeframe_m)\n",
    "df.tail(lags)"
   ]
  },
  {
   "cell_type": "code",
   "execution_count": 2,
   "metadata": {},
   "outputs": [
    {
     "data": {
      "text/html": [
       "<div>\n",
       "<style scoped>\n",
       "    .dataframe tbody tr th:only-of-type {\n",
       "        vertical-align: middle;\n",
       "    }\n",
       "\n",
       "    .dataframe tbody tr th {\n",
       "        vertical-align: top;\n",
       "    }\n",
       "\n",
       "    .dataframe thead th {\n",
       "        text-align: right;\n",
       "    }\n",
       "</style>\n",
       "<table border=\"1\" class=\"dataframe\">\n",
       "  <thead>\n",
       "    <tr style=\"text-align: right;\">\n",
       "      <th></th>\n",
       "      <th>predicted_close</th>\n",
       "    </tr>\n",
       "    <tr>\n",
       "      <th>time</th>\n",
       "      <th></th>\n",
       "    </tr>\n",
       "  </thead>\n",
       "  <tbody>\n",
       "    <tr>\n",
       "      <th>2024-12-05 22:15:00</th>\n",
       "      <td>191.279190</td>\n",
       "    </tr>\n",
       "    <tr>\n",
       "      <th>2024-12-05 22:30:00</th>\n",
       "      <td>191.319519</td>\n",
       "    </tr>\n",
       "    <tr>\n",
       "      <th>2024-12-05 22:45:00</th>\n",
       "      <td>191.375046</td>\n",
       "    </tr>\n",
       "    <tr>\n",
       "      <th>2024-12-05 23:00:00</th>\n",
       "      <td>191.422638</td>\n",
       "    </tr>\n",
       "    <tr>\n",
       "      <th>2024-12-05 23:15:00</th>\n",
       "      <td>191.369125</td>\n",
       "    </tr>\n",
       "    <tr>\n",
       "      <th>2024-12-05 23:30:00</th>\n",
       "      <td>191.435013</td>\n",
       "    </tr>\n",
       "    <tr>\n",
       "      <th>2024-12-05 23:45:00</th>\n",
       "      <td>191.299942</td>\n",
       "    </tr>\n",
       "    <tr>\n",
       "      <th>2024-12-06 00:00:00</th>\n",
       "      <td>191.285385</td>\n",
       "    </tr>\n",
       "  </tbody>\n",
       "</table>\n",
       "</div>"
      ],
      "text/plain": [
       "                     predicted_close\n",
       "time                                \n",
       "2024-12-05 22:15:00       191.279190\n",
       "2024-12-05 22:30:00       191.319519\n",
       "2024-12-05 22:45:00       191.375046\n",
       "2024-12-05 23:00:00       191.422638\n",
       "2024-12-05 23:15:00       191.369125\n",
       "2024-12-05 23:30:00       191.435013\n",
       "2024-12-05 23:45:00       191.299942\n",
       "2024-12-06 00:00:00       191.285385"
      ]
     },
     "execution_count": 2,
     "metadata": {},
     "output_type": "execute_result"
    }
   ],
   "source": [
    "forecast_df"
   ]
  },
  {
   "cell_type": "code",
   "execution_count": 3,
   "metadata": {},
   "outputs": [
    {
     "name": "stdout",
     "output_type": "stream",
     "text": [
      "\n",
      ".....................................REQUEST:..........................................\n",
      "\n",
      "predicted_close == current_close:\n",
      "\n",
      "current_price   => 191.285\n",
      "predicted_close => 191.285\n",
      "target_profit   => 0\n",
      "\n",
      ".....................................RESPONSE:..........................................\n",
      "\n",
      ".....................I DON'T KNOW HOW TO HELP YOU!.....................\n"
     ]
    }
   ],
   "source": [
    "trade_serials(currency, df, forecast_df)"
   ]
  }
 ],
 "metadata": {
  "kernelspec": {
   "display_name": ".venv",
   "language": "python",
   "name": "python3"
  },
  "language_info": {
   "codemirror_mode": {
    "name": "ipython",
    "version": 3
   },
   "file_extension": ".py",
   "mimetype": "text/x-python",
   "name": "python",
   "nbconvert_exporter": "python",
   "pygments_lexer": "ipython3",
   "version": "3.12.3"
  }
 },
 "nbformat": 4,
 "nbformat_minor": 2
}
