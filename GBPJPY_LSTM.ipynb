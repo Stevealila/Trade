{
 "cells": [
  {
   "cell_type": "code",
   "execution_count": 1,
   "metadata": {},
   "outputs": [
    {
     "name": "stderr",
     "output_type": "stream",
     "text": [
      "c:\\Users\\User\\trade\\.venv\\Lib\\site-packages\\keras\\src\\layers\\rnn\\rnn.py:200: UserWarning: Do not pass an `input_shape`/`input_dim` argument to a layer. When using Sequential models, prefer using an `Input(shape)` object as the first layer in the model instead.\n",
      "  super().__init__(**kwargs)\n"
     ]
    },
    {
     "name": "stdout",
     "output_type": "stream",
     "text": [
      "\u001b[1m1/1\u001b[0m \u001b[32m━━━━━━━━━━━━━━━━━━━━\u001b[0m\u001b[37m\u001b[0m \u001b[1m0s\u001b[0m 252ms/step\n"
     ]
    },
    {
     "data": {
      "text/html": [
       "<div>\n",
       "<style scoped>\n",
       "    .dataframe tbody tr th:only-of-type {\n",
       "        vertical-align: middle;\n",
       "    }\n",
       "\n",
       "    .dataframe tbody tr th {\n",
       "        vertical-align: top;\n",
       "    }\n",
       "\n",
       "    .dataframe thead th {\n",
       "        text-align: right;\n",
       "    }\n",
       "</style>\n",
       "<table border=\"1\" class=\"dataframe\">\n",
       "  <thead>\n",
       "    <tr style=\"text-align: right;\">\n",
       "      <th></th>\n",
       "      <th>close</th>\n",
       "    </tr>\n",
       "    <tr>\n",
       "      <th>time</th>\n",
       "      <th></th>\n",
       "    </tr>\n",
       "  </thead>\n",
       "  <tbody>\n",
       "    <tr>\n",
       "      <th>2024-12-18 11:00:00</th>\n",
       "      <td>194.732</td>\n",
       "    </tr>\n",
       "    <tr>\n",
       "      <th>2024-12-18 11:15:00</th>\n",
       "      <td>194.817</td>\n",
       "    </tr>\n",
       "    <tr>\n",
       "      <th>2024-12-18 11:30:00</th>\n",
       "      <td>194.868</td>\n",
       "    </tr>\n",
       "    <tr>\n",
       "      <th>2024-12-18 11:45:00</th>\n",
       "      <td>194.824</td>\n",
       "    </tr>\n",
       "    <tr>\n",
       "      <th>2024-12-18 12:00:00</th>\n",
       "      <td>194.995</td>\n",
       "    </tr>\n",
       "    <tr>\n",
       "      <th>2024-12-18 12:15:00</th>\n",
       "      <td>194.962</td>\n",
       "    </tr>\n",
       "    <tr>\n",
       "      <th>2024-12-18 12:30:00</th>\n",
       "      <td>195.056</td>\n",
       "    </tr>\n",
       "    <tr>\n",
       "      <th>2024-12-18 12:45:00</th>\n",
       "      <td>195.085</td>\n",
       "    </tr>\n",
       "  </tbody>\n",
       "</table>\n",
       "</div>"
      ],
      "text/plain": [
       "                       close\n",
       "time                        \n",
       "2024-12-18 11:00:00  194.732\n",
       "2024-12-18 11:15:00  194.817\n",
       "2024-12-18 11:30:00  194.868\n",
       "2024-12-18 11:45:00  194.824\n",
       "2024-12-18 12:00:00  194.995\n",
       "2024-12-18 12:15:00  194.962\n",
       "2024-12-18 12:30:00  195.056\n",
       "2024-12-18 12:45:00  195.085"
      ]
     },
     "execution_count": 1,
     "metadata": {},
     "output_type": "execute_result"
    }
   ],
   "source": [
    "from models.ts.cycles import forecast_serials_lstm, trade_serials\n",
    "\n",
    "currency = \"GBPJPY\"\n",
    "timeframe_m = 15\n",
    "lags = 8\n",
    "\n",
    "df, forecast_df = forecast_serials_lstm(currency, lags, timeframe_m)\n",
    "df.tail(lags)"
   ]
  },
  {
   "cell_type": "code",
   "execution_count": 2,
   "metadata": {},
   "outputs": [
    {
     "data": {
      "text/html": [
       "<div>\n",
       "<style scoped>\n",
       "    .dataframe tbody tr th:only-of-type {\n",
       "        vertical-align: middle;\n",
       "    }\n",
       "\n",
       "    .dataframe tbody tr th {\n",
       "        vertical-align: top;\n",
       "    }\n",
       "\n",
       "    .dataframe thead th {\n",
       "        text-align: right;\n",
       "    }\n",
       "</style>\n",
       "<table border=\"1\" class=\"dataframe\">\n",
       "  <thead>\n",
       "    <tr style=\"text-align: right;\">\n",
       "      <th></th>\n",
       "      <th>predicted_close</th>\n",
       "    </tr>\n",
       "    <tr>\n",
       "      <th>time</th>\n",
       "      <th></th>\n",
       "    </tr>\n",
       "  </thead>\n",
       "  <tbody>\n",
       "    <tr>\n",
       "      <th>2024-12-18 13:00:00</th>\n",
       "      <td>194.689072</td>\n",
       "    </tr>\n",
       "    <tr>\n",
       "      <th>2024-12-18 13:15:00</th>\n",
       "      <td>194.703461</td>\n",
       "    </tr>\n",
       "    <tr>\n",
       "      <th>2024-12-18 13:30:00</th>\n",
       "      <td>194.844940</td>\n",
       "    </tr>\n",
       "    <tr>\n",
       "      <th>2024-12-18 13:45:00</th>\n",
       "      <td>194.896576</td>\n",
       "    </tr>\n",
       "    <tr>\n",
       "      <th>2024-12-18 14:00:00</th>\n",
       "      <td>194.926880</td>\n",
       "    </tr>\n",
       "    <tr>\n",
       "      <th>2024-12-18 14:15:00</th>\n",
       "      <td>194.944977</td>\n",
       "    </tr>\n",
       "    <tr>\n",
       "      <th>2024-12-18 14:30:00</th>\n",
       "      <td>194.938141</td>\n",
       "    </tr>\n",
       "    <tr>\n",
       "      <th>2024-12-18 14:45:00</th>\n",
       "      <td>194.910507</td>\n",
       "    </tr>\n",
       "  </tbody>\n",
       "</table>\n",
       "</div>"
      ],
      "text/plain": [
       "                     predicted_close\n",
       "time                                \n",
       "2024-12-18 13:00:00       194.689072\n",
       "2024-12-18 13:15:00       194.703461\n",
       "2024-12-18 13:30:00       194.844940\n",
       "2024-12-18 13:45:00       194.896576\n",
       "2024-12-18 14:00:00       194.926880\n",
       "2024-12-18 14:15:00       194.944977\n",
       "2024-12-18 14:30:00       194.938141\n",
       "2024-12-18 14:45:00       194.910507"
      ]
     },
     "execution_count": 2,
     "metadata": {},
     "output_type": "execute_result"
    }
   ],
   "source": [
    "forecast_df"
   ]
  },
  {
   "cell_type": "code",
   "execution_count": 4,
   "metadata": {},
   "outputs": [
    {
     "name": "stdout",
     "output_type": "stream",
     "text": [
      "\n",
      ".....................................REQUEST:..........................................\n",
      "\n",
      "We will go SHORT by 17 pips:\n",
      "\n",
      "current_price   => 195.085\n",
      "predicted_close => 194.911\n",
      "target_profit   => 17\n",
      "\n",
      ".....................................RESPONSE:..........................................\n",
      "\n",
      "\n",
      "\n",
      "......................SHORT-SELLING GBPJPY......................\n",
      "\n",
      "\n",
      "GBPJPYm short sold successfully!\n"
     ]
    }
   ],
   "source": [
    "trade_serials(currency, df, forecast_df)"
   ]
  }
 ],
 "metadata": {
  "kernelspec": {
   "display_name": ".venv",
   "language": "python",
   "name": "python3"
  },
  "language_info": {
   "codemirror_mode": {
    "name": "ipython",
    "version": 3
   },
   "file_extension": ".py",
   "mimetype": "text/x-python",
   "name": "python",
   "nbconvert_exporter": "python",
   "pygments_lexer": "ipython3",
   "version": "3.12.3"
  }
 },
 "nbformat": 4,
 "nbformat_minor": 2
}
