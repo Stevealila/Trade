{
 "cells": [
  {
   "cell_type": "code",
   "execution_count": 1,
   "metadata": {},
   "outputs": [
    {
     "name": "stdout",
     "output_type": "stream",
     "text": [
      "Connected to MetaTrader5 successfully!\n"
     ]
    }
   ],
   "source": [
    "from utils.mt5 import login_\n",
    "from data.select_pairs import by_spread_volatility\n",
    "\n",
    "login_()"
   ]
  },
  {
   "cell_type": "code",
   "execution_count": 2,
   "metadata": {},
   "outputs": [
    {
     "data": {
      "text/plain": [
       "['EURUSD', 'GBPUSD', 'AUDUSD']"
      ]
     },
     "execution_count": 2,
     "metadata": {},
     "output_type": "execute_result"
    }
   ],
   "source": [
    "majors = [ \"EURUSD\", \"GBPUSD\", \"USDJPY\", \"USDCHF\", \"EURJPY\", \"USDCAD\", \"AUDUSD\", \"NZDUSD\"]\n",
    "\n",
    "chosen_pairs = by_spread_volatility(majors, 3)\n",
    "chosen_pairs"
   ]
  }
 ],
 "metadata": {
  "kernelspec": {
   "display_name": "venv",
   "language": "python",
   "name": "python3"
  },
  "language_info": {
   "codemirror_mode": {
    "name": "ipython",
    "version": 3
   },
   "file_extension": ".py",
   "mimetype": "text/x-python",
   "name": "python",
   "nbconvert_exporter": "python",
   "pygments_lexer": "ipython3",
   "version": "3.10.9"
  }
 },
 "nbformat": 4,
 "nbformat_minor": 2
}
