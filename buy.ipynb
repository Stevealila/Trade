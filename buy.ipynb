{
 "cells": [
  {
   "cell_type": "code",
   "execution_count": 1,
   "metadata": {},
   "outputs": [
    {
     "name": "stdout",
     "output_type": "stream",
     "text": [
      "Connected to MetaTrader5 successfully!\n"
     ]
    }
   ],
   "source": [
    "from utils.mt5 import login_\n",
    "\n",
    "login_()"
   ]
  },
  {
   "cell_type": "code",
   "execution_count": 2,
   "metadata": {},
   "outputs": [],
   "source": [
    "import pandas as pd\n",
    "from utils.mt5 import get_currency_pair_data_"
   ]
  },
  {
   "cell_type": "markdown",
   "metadata": {},
   "source": [
    "# Step1 - Combine Majors into df"
   ]
  },
  {
   "cell_type": "code",
   "execution_count": 3,
   "metadata": {},
   "outputs": [
    {
     "data": {
      "text/html": [
       "<div>\n",
       "<style scoped>\n",
       "    .dataframe tbody tr th:only-of-type {\n",
       "        vertical-align: middle;\n",
       "    }\n",
       "\n",
       "    .dataframe tbody tr th {\n",
       "        vertical-align: top;\n",
       "    }\n",
       "\n",
       "    .dataframe thead th {\n",
       "        text-align: right;\n",
       "    }\n",
       "</style>\n",
       "<table border=\"1\" class=\"dataframe\">\n",
       "  <thead>\n",
       "    <tr style=\"text-align: right;\">\n",
       "      <th></th>\n",
       "      <th>EURUSD</th>\n",
       "      <th>GBPUSD</th>\n",
       "      <th>USDJPY</th>\n",
       "      <th>USDCHF</th>\n",
       "      <th>EURJPY</th>\n",
       "      <th>USDCAD</th>\n",
       "      <th>AUDUSD</th>\n",
       "      <th>NZDUSD</th>\n",
       "    </tr>\n",
       "    <tr>\n",
       "      <th>time</th>\n",
       "      <th></th>\n",
       "      <th></th>\n",
       "      <th></th>\n",
       "      <th></th>\n",
       "      <th></th>\n",
       "      <th></th>\n",
       "      <th></th>\n",
       "      <th></th>\n",
       "    </tr>\n",
       "  </thead>\n",
       "  <tbody>\n",
       "    <tr>\n",
       "      <th>2024-11-14</th>\n",
       "      <td>1.05293</td>\n",
       "      <td>1.26665</td>\n",
       "      <td>156.475</td>\n",
       "      <td>0.89044</td>\n",
       "      <td>164.756</td>\n",
       "      <td>1.40607</td>\n",
       "      <td>0.64549</td>\n",
       "      <td>0.58485</td>\n",
       "    </tr>\n",
       "    <tr>\n",
       "      <th>2024-11-15</th>\n",
       "      <td>1.05375</td>\n",
       "      <td>1.26189</td>\n",
       "      <td>154.354</td>\n",
       "      <td>0.88811</td>\n",
       "      <td>162.631</td>\n",
       "      <td>1.40875</td>\n",
       "      <td>0.64627</td>\n",
       "      <td>0.58658</td>\n",
       "    </tr>\n",
       "    <tr>\n",
       "      <th>2024-11-17</th>\n",
       "      <td>1.05361</td>\n",
       "      <td>1.26189</td>\n",
       "      <td>154.634</td>\n",
       "      <td>0.88842</td>\n",
       "      <td>162.926</td>\n",
       "      <td>1.40857</td>\n",
       "      <td>0.64640</td>\n",
       "      <td>0.58628</td>\n",
       "    </tr>\n",
       "    <tr>\n",
       "      <th>2024-11-18</th>\n",
       "      <td>1.05941</td>\n",
       "      <td>1.26781</td>\n",
       "      <td>154.611</td>\n",
       "      <td>0.88321</td>\n",
       "      <td>163.796</td>\n",
       "      <td>1.40218</td>\n",
       "      <td>0.65053</td>\n",
       "      <td>0.58893</td>\n",
       "    </tr>\n",
       "    <tr>\n",
       "      <th>2024-11-19</th>\n",
       "      <td>1.05761</td>\n",
       "      <td>1.26457</td>\n",
       "      <td>153.702</td>\n",
       "      <td>0.88168</td>\n",
       "      <td>162.679</td>\n",
       "      <td>1.40240</td>\n",
       "      <td>0.65043</td>\n",
       "      <td>0.58927</td>\n",
       "    </tr>\n",
       "  </tbody>\n",
       "</table>\n",
       "</div>"
      ],
      "text/plain": [
       "             EURUSD   GBPUSD   USDJPY   USDCHF   EURJPY   USDCAD   AUDUSD  \\\n",
       "time                                                                        \n",
       "2024-11-14  1.05293  1.26665  156.475  0.89044  164.756  1.40607  0.64549   \n",
       "2024-11-15  1.05375  1.26189  154.354  0.88811  162.631  1.40875  0.64627   \n",
       "2024-11-17  1.05361  1.26189  154.634  0.88842  162.926  1.40857  0.64640   \n",
       "2024-11-18  1.05941  1.26781  154.611  0.88321  163.796  1.40218  0.65053   \n",
       "2024-11-19  1.05761  1.26457  153.702  0.88168  162.679  1.40240  0.65043   \n",
       "\n",
       "             NZDUSD  \n",
       "time                 \n",
       "2024-11-14  0.58485  \n",
       "2024-11-15  0.58658  \n",
       "2024-11-17  0.58628  \n",
       "2024-11-18  0.58893  \n",
       "2024-11-19  0.58927  "
      ]
     },
     "execution_count": 3,
     "metadata": {},
     "output_type": "execute_result"
    }
   ],
   "source": [
    "majors = [ \"EURUSD\", \"GBPUSD\", \"USDJPY\", \"USDCHF\", \"EURJPY\", \"USDCAD\", \"AUDUSD\", \"NZDUSD\"]\n",
    "\n",
    "curr_dict = {}\n",
    "for currency in majors:\n",
    "    curr_dict[currency] = get_currency_pair_data_(currency)['close']\n",
    "\n",
    "df = pd.concat(curr_dict, axis=1)\n",
    "df.tail()"
   ]
  },
  {
   "cell_type": "markdown",
   "metadata": {},
   "source": [
    "# Step2 - Pick top 2 trending pairs"
   ]
  },
  {
   "cell_type": "code",
   "execution_count": 4,
   "metadata": {},
   "outputs": [
    {
     "data": {
      "text/plain": [
       "(1095, 8)"
      ]
     },
     "execution_count": 4,
     "metadata": {},
     "output_type": "execute_result"
    }
   ],
   "source": [
    "df.shape"
   ]
  }
 ],
 "metadata": {
  "kernelspec": {
   "display_name": "venv",
   "language": "python",
   "name": "python3"
  },
  "language_info": {
   "codemirror_mode": {
    "name": "ipython",
    "version": 3
   },
   "file_extension": ".py",
   "mimetype": "text/x-python",
   "name": "python",
   "nbconvert_exporter": "python",
   "pygments_lexer": "ipython3",
   "version": "3.10.9"
  }
 },
 "nbformat": 4,
 "nbformat_minor": 2
}
